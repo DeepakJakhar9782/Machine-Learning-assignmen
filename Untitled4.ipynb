{
  "nbformat": 4,
  "nbformat_minor": 0,
  "metadata": {
    "colab": {
      "provenance": [],
      "authorship_tag": "ABX9TyPuyMjlcaxQ6B0e+tPeyU+2",
      "include_colab_link": true
    },
    "kernelspec": {
      "name": "python3",
      "display_name": "Python 3"
    },
    "language_info": {
      "name": "python"
    }
  },
  "cells": [
    {
      "cell_type": "markdown",
      "metadata": {
        "id": "view-in-github",
        "colab_type": "text"
      },
      "source": [
        "<a href=\"https://colab.research.google.com/github/DeepakJakhar9782/Machine-Learning-assignmen/blob/main/Untitled4.ipynb\" target=\"_parent\"><img src=\"https://colab.research.google.com/assets/colab-badge.svg\" alt=\"Open In Colab\"/></a>"
      ]
    },
    {
      "cell_type": "code",
      "execution_count": null,
      "metadata": {
        "id": "EBq-DghX2c7p"
      },
      "outputs": [],
      "source": [
        "import random\n",
        "import matplotlib.pyplot as plt\n"
      ]
    },
    {
      "cell_type": "markdown",
      "source": [
        "The import random loads the random module, which contains a number of random number generation-related functions the statement \"import matplotlib. pyplot as plt\" is a Python code that imports the pyplot module from the matplotlib library. This allows us to create and customize visualizations, such as line plots, scatter plots, histograms, and more"
      ],
      "metadata": {
        "id": "Fw4h0hA489N_"
      }
    },
    {
      "cell_type": "markdown",
      "source": [],
      "metadata": {
        "id": "i1Wo12hA74JD"
      }
    },
    {
      "cell_type": "code",
      "source": [
        "mapping_dict = dict(zip(range(0,10),range(0,10)))"
      ],
      "metadata": {
        "id": "NKHgOk_99CwJ"
      },
      "execution_count": null,
      "outputs": []
    },
    {
      "cell_type": "markdown",
      "source": [
        "The line of code we hve written here creates a dictionary in Python using the zip function. Here what the each code do are given below.\n",
        "\n",
        "range(0, 10): This creates a range of numbers from 0 to 9 It generates the sequence [0, 1, 2, 3, 4, 5, 6, 7, 8, 9].\n",
        "\n",
        "zip(range(0, 10), range(0, 10)): The zip function takes two iterables and pairs their elements element-wise. In this case, it pairs each element of the first range (0 to 9) with the corresponding element of the second range (also 0 to 9). The result is a sequence of pairs: {(0, 0), (1, 1), (2, 2), (3, 3), (4, 4), (5, 5), (6, 6), (7, 7), (8, 8), (9, 9)}.\n",
        "\n",
        "dict(...): This converts the sequence of pairs obtained from zip into a dictionary. In Python, a dictionary is a collection of key-value pairs. In this case, both the keys and values are integers. The resulting dictionary looks like this: {0: 0, 1: 1, 2: 2, 3: 3, 4: 4, 5: 5, 6: 6, 7: 7, 8: 8, 9: 9}."
      ],
      "metadata": {
        "id": "03ZdX2-J9Fxb"
      }
    },
    {
      "cell_type": "code",
      "source": [
        "mapping_dict"
      ],
      "metadata": {
        "colab": {
          "base_uri": "https://localhost:8080/"
        },
        "id": "e60iZ8TB9I0i",
        "outputId": "6fddb977-ac6a-4bb6-c47a-4a9f73e627da"
      },
      "execution_count": null,
      "outputs": [
        {
          "output_type": "execute_result",
          "data": {
            "text/plain": [
              "{0: 0, 1: 1, 2: 2, 3: 3, 4: 4, 5: 5, 6: 6, 7: 7, 8: 8, 9: 9}"
            ]
          },
          "metadata": {},
          "execution_count": 8
        }
      ]
    },
    {
      "cell_type": "code",
      "source": [
        "for k in mapping_dict.keys():\n",
        "\n",
        "  mapping_dict[k] = str(mapping_dict[k])"
      ],
      "metadata": {
        "id": "_vYtdhGu9ROX"
      },
      "execution_count": null,
      "outputs": []
    },
    {
      "cell_type": "markdown",
      "source": [
        "The code we have written here iterates over the keys of the mapping_dict dictionary and updates the values associated with each key by converting them to strings. Here's a breakdown of what each line does\n",
        "\n",
        "for k in mapping_dict.keys():: This initiates a loop that iterates over all the keys in the mapping_dict dictionary.\n",
        "\n",
        "mapping_dict[k] = str(mapping_dict[k]): Inside the loop, it converts the value associated with each key to a string using the str() function and then updates the value in the dictionary with the new string representation.\n",
        "\n",
        "After this loop completes, all the values in the mapping_dict dictionary will be converted to strings. If, for example, the original dictionary was {0: 0, 1: 1, 2: 2, 3: 3, 4: 4, 5: 5, 6: 6, 7: 7, 8: 8, 9: 9}, the modified dictionary after the loop would be {0: '0', 1: '1', 2: '2', 3: '3', 4: '4', 5: '5', 6: '6', 7: '7', 8: '8', 9: '9'}.\n",
        "\n",
        "this code converts all the values in the dictionary from integers to their string representations."
      ],
      "metadata": {
        "id": "M-JHovUI9T73"
      }
    },
    {
      "cell_type": "code",
      "source": [
        "mapping_dict"
      ],
      "metadata": {
        "colab": {
          "base_uri": "https://localhost:8080/"
        },
        "id": "EMzzDhp39Uq5",
        "outputId": "498fa784-9f43-4919-8882-bb5bb61da1c7"
      },
      "execution_count": null,
      "outputs": [
        {
          "output_type": "execute_result",
          "data": {
            "text/plain": [
              "{0: '0',\n",
              " 1: '1',\n",
              " 2: '2',\n",
              " 3: '3',\n",
              " 4: '4',\n",
              " 5: '5',\n",
              " 6: '6',\n",
              " 7: '7',\n",
              " 8: '8',\n",
              " 9: '9'}"
            ]
          },
          "metadata": {},
          "execution_count": 10
        }
      ]
    },
    {
      "cell_type": "markdown",
      "source": [
        "Tuple is a type of data structure that is very similiar to lists but the main difference is that they cannot be changed once they are created."
      ],
      "metadata": {
        "id": "OdCcXyxS9YtP"
      }
    },
    {
      "cell_type": "code",
      "source": [
        "for i in range(0,26):\n",
        "  mapping_dict[10+i] = chr(65+i)"
      ],
      "metadata": {
        "id": "zXtlYlZ79dmn"
      },
      "execution_count": null,
      "outputs": []
    },
    {
      "cell_type": "markdown",
      "source": [
        "for i in range(0, 26):: This initiates a loop that iterates over the numbers from 0 to 25.\n",
        "\n",
        "mapping_dict[10 + i] = chr(65 + i): Inside the loop, it updates the dictionary mapping_dict. For each iteration, it sets the value associated with the key 10 + i to the character represented by the ASCII value 65 + i. The chr() function is used to convert an ascii value to its corresponding character.\n",
        "\n",
        "After this loop completes, the mapping_dict dictionary will have additional key-value pairs where the keys are integers from 10 to 35 (inclusive), and the values are characters starting from 'A' and going up to 'Z'."
      ],
      "metadata": {
        "id": "ne1i6e3J9gzP"
      }
    },
    {
      "cell_type": "code",
      "source": [
        "mapping_dict"
      ],
      "metadata": {
        "colab": {
          "base_uri": "https://localhost:8080/"
        },
        "id": "lx5-fh7w9mSZ",
        "outputId": "daa8c193-35b5-4500-f1d6-3cd3697b74e4"
      },
      "execution_count": null,
      "outputs": [
        {
          "output_type": "execute_result",
          "data": {
            "text/plain": [
              "{0: '0',\n",
              " 1: '1',\n",
              " 2: '2',\n",
              " 3: '3',\n",
              " 4: '4',\n",
              " 5: '5',\n",
              " 6: '6',\n",
              " 7: '7',\n",
              " 8: '8',\n",
              " 9: '9',\n",
              " 10: 'A',\n",
              " 11: 'B',\n",
              " 12: 'C',\n",
              " 13: 'D',\n",
              " 14: 'E',\n",
              " 15: 'F',\n",
              " 16: 'G',\n",
              " 17: 'H',\n",
              " 18: 'I',\n",
              " 19: 'J',\n",
              " 20: 'K',\n",
              " 21: 'L',\n",
              " 22: 'M',\n",
              " 23: 'N',\n",
              " 24: 'O',\n",
              " 25: 'P',\n",
              " 26: 'Q',\n",
              " 27: 'R',\n",
              " 28: 'S',\n",
              " 29: 'T',\n",
              " 30: 'U',\n",
              " 31: 'V',\n",
              " 32: 'W',\n",
              " 33: 'X',\n",
              " 34: 'Y',\n",
              " 35: 'Z'}"
            ]
          },
          "metadata": {},
          "execution_count": 12
        }
      ]
    },
    {
      "cell_type": "code",
      "source": [
        "sample_size = 500000\n",
        "\n",
        "random_numbers = list()\n",
        "\n",
        "for i in range(0,sample_size):\n",
        "\n",
        "  blank_str = str()\n",
        "\n",
        "  random_digit = random.randint(0,35)\n",
        "  blank_str = blank_str + mapping_dict[random_digit]\n",
        "\n",
        "  random_digit = random.randint(0,35)\n",
        "  blank_str = blank_str + mapping_dict[random_digit]\n",
        "\n",
        "  for i in range(0,8):\n",
        "    coin_toss = random.randint(0,1)\n",
        "\n",
        "    if coin_toss == 1:\n",
        "\n",
        "      random_digit = random.randint(0,35)\n",
        "      blank_str = blank_str + mapping_dict[random_digit]\n",
        "\n",
        "    else:\n",
        "      break\n",
        "\n",
        "  random_numbers.append(blank_str)"
      ],
      "metadata": {
        "id": "uirTAteN9tFb"
      },
      "execution_count": null,
      "outputs": []
    },
    {
      "cell_type": "markdown",
      "source": [
        "This Python code generates a list of random strings using a combination of characters from a given mapping_dict. What each code does are given below:\n",
        "\n",
        "sample_size = 500000: Specifies the number of random strings to generate, and it's set to 500,000 in this case.\n",
        "\n",
        "random_numbers = list(): Initializes an empty list called random_numbers to store the generated random strings.\n",
        "\n",
        "The code then enters a loop that runs sample_size times:\n",
        "\n",
        "a. Inside the loop, a variable blank_str is initialized as an empty string.\n",
        "\n",
        "b. Two random digits between 0 and 35 (inclusive) are generated using random.randint(0,35). These digits are used as indices to retrieve characters from mapping_dict, and the corresponding characters are appended to the blank_str.\n",
        "\n",
        "c. Another loop is initiated, which runs for 8 iterations. In each iteration, a coin toss (0 or 1) is simulated using random.randint(0,1). If the result is 1, another random digit is selected from mapping_dict and appended to blank_str. If the result is 0, the loop breaks.\n",
        "\n",
        "d. The final blank_str is appended to the random_numbers list.\n",
        "\n",
        "The process is repeated until the specified sample_size is reached"
      ],
      "metadata": {
        "id": "jiJs_H999vrF"
      }
    },
    {
      "cell_type": "code",
      "source": [
        "reverse_mapping_dict = dict()\n",
        "\n",
        "for k in mapping_dict.keys():\n",
        "  reverse_mapping_dict[mapping_dict[k]] = k\n"
      ],
      "metadata": {
        "id": "ZqLfSJTI9y0q"
      },
      "execution_count": null,
      "outputs": []
    },
    {
      "cell_type": "markdown",
      "source": [
        "reverse_mapping_dict = dict(): Initializes an empty dictionary called reverse_mapping_dict that will be used to store the reversed mapping.\n",
        "\n",
        "The code enters a for loop that iterates over the keys of the mapping_dict:\n",
        "\n",
        "a. for k in mapping_dict.keys():: This loop iterates through each key (k) in the mapping_dict.\n",
        "\n",
        "b. reverse_mapping_dict[mapping_dict[k]] = k: For each key (k) in mapping_dict, it takes the corresponding value (mapping_dict[k]) and uses it as the key in reverse_mapping_dict. The original key (k) from mapping_dict is then used as the value in reverse_mapping_dict. Essentially, it reverses the key-value pairs from mapping_dict and stores them in reverse_mapping_dict.\n",
        "\n",
        "After this loop, reverse_mapping_dict will contain the reversed mapping of values to keys from the original mapping_dict. This can be useful if we need to look up the original key based on a value in mapping_dict."
      ],
      "metadata": {
        "id": "r6kG86YE90-4"
      }
    },
    {
      "cell_type": "code",
      "source": [
        "base_frequency = dict()\n",
        "\n",
        "for blank_str in random_numbers:\n",
        "  highest_digit = max(blank_str)\n",
        "  highest_base = reverse_mapping_dict[highest_digit] + 1\n",
        "\n",
        "  if highest_base in base_frequency.keys():\n",
        "    base_frequency[highest_base] += (1/sample_size)\n",
        "  else:\n",
        "    base_frequency[highest_base] = (1/sample_size)"
      ],
      "metadata": {
        "id": "-d_wURKW94jO"
      },
      "execution_count": null,
      "outputs": []
    },
    {
      "cell_type": "markdown",
      "source": [
        "base_frequency = dict(): Initializes an empty dictionary called base_frequency to store the frequency of each highest base.\n",
        "\n",
        "The code enters a for loop that iterates over each string (blank_str) in the list random_numbers:\n",
        "\n",
        "a. highest_digit = max(blank_str): Finds the character with the maximum value in the current string (blank_str).\n",
        "\n",
        "b. highest_base = reverse_mapping_dict[highest_digit] + 1: Uses the reversed mapping (reverse_mapping_dict) to find the original base value corresponding to the highest_digit. The + 1 is added to convert from 0-based indexing to 1-based indexing.\n",
        "\n",
        "c. Checks if highest_base is already a key in the base_frequency dictionary:\n",
        "\n",
        "If it is (if highest_base in base_frequency.keys():), increments the existing value in base_frequency by (1/sample_size). This part is updating the frequency of the highest base.\n",
        "\n",
        "If it is not (else:), creates a new key-value pair in base_frequency with highest_base as the key and (1/sample_size) as the value. This part is initializing the frequency of the highest base if it hasn't been encountered before."
      ],
      "metadata": {
        "id": "1Qu66GX897Wr"
      }
    },
    {
      "cell_type": "code",
      "source": [
        "plt.bar(x=base_frequency.keys(),height=base_frequency.values())"
      ],
      "metadata": {
        "colab": {
          "base_uri": "https://localhost:8080/",
          "height": 447
        },
        "id": "qarLFwtc9-Jq",
        "outputId": "778247b1-9eec-49d1-f234-d765b9ce45bf"
      },
      "execution_count": null,
      "outputs": [
        {
          "output_type": "execute_result",
          "data": {
            "text/plain": [
              "<BarContainer object of 36 artists>"
            ]
          },
          "metadata": {},
          "execution_count": 16
        },
        {
          "output_type": "display_data",
          "data": {
            "text/plain": [
              "<Figure size 640x480 with 1 Axes>"
            ],
            "image/png": "[encoded data removed]"
          },
          "metadata": {}
        }
      ]
    },
    {
      "cell_type": "markdown",
      "source": [
        "import matplotlib.pyplot as plt: Imports the matplotlib.pyplot module and gives it the alias plt. This module is commonly used for creating visualizations such as plots and charts.\n",
        "\n",
        "plt.bar(x=base_frequency.keys(), height=base_frequency.values()): Creates a bar plot using the bar function from matplotlib.pyplot. The x parameter is set to the keys of the base_frequency dictionary, and the height parameter is set to the values of the base_frequency dictionary.\n",
        "\n",
        "x=base_frequency.keys(): Specifies the x-axis values, which are the keys of the base_frequency dictionary. In this case, these are the highest bases encountered in the set of random strings.\n",
        "\n",
        "height=base_frequency.values(): Specifies the heights of the bars on the y-axis, which correspond to the frequencies of the highest bases in the set of random strings. This code generates a bar plot where each bar represents a unique highest base, and the height of each bar represents the frequency of that highest base in the set of random strings as shown in the above figure. The resulting plot visually displays the distribution of highest bases. we can use plt.show() to display the plot."
      ],
      "metadata": {
        "id": "uYVkwGrm-Ai2"
      }
    }
  ]
}